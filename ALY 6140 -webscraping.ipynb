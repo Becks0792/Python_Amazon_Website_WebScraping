{
 "cells": [
  {
   "cell_type": "markdown",
   "id": "0aff904d",
   "metadata": {
    "id": "0aff904d"
   },
   "source": [
    "# WEBSCRAPING - INTRODUCTION"
   ]
  },
  {
   "cell_type": "code",
   "execution_count": null,
   "id": "e7afd232",
   "metadata": {
    "id": "e7afd232"
   },
   "outputs": [],
   "source": [
    "# Installing packages\n",
    "from bs4 import BeautifulSoup\n",
    "import requests"
   ]
  },
  {
   "cell_type": "code",
   "execution_count": null,
   "id": "15007a73",
   "metadata": {
    "id": "15007a73"
   },
   "outputs": [],
   "source": [
    "url ='https://www.scrapethissite.com/pages/forms'"
   ]
  },
  {
   "cell_type": "code",
   "execution_count": null,
   "id": "b0885b3f",
   "metadata": {
    "id": "b0885b3f"
   },
   "outputs": [],
   "source": [
    "page = requests.get(url) # response 204 : No content on the web page\n",
    "                         # repsonse 100 : bad request"
   ]
  },
  {
   "cell_type": "code",
   "execution_count": null,
   "id": "71a4a7a3",
   "metadata": {
    "id": "71a4a7a3"
   },
   "outputs": [],
   "source": [
    "soup = BeautifulSoup(page.text , 'html')"
   ]
  },
  {
   "cell_type": "code",
   "execution_count": null,
   "id": "fdaa88aa",
   "metadata": {
    "id": "fdaa88aa"
   },
   "outputs": [],
   "source": [
    "print(soup)"
   ]
  },
  {
   "cell_type": "code",
   "execution_count": null,
   "id": "72f650c0",
   "metadata": {
    "id": "72f650c0"
   },
   "outputs": [],
   "source": [
    "print(soup.prettify())"
   ]
  },
  {
   "cell_type": "markdown",
   "id": "58b1fcc3",
   "metadata": {
    "id": "58b1fcc3"
   },
   "source": [
    "# WEBSCRAPING - WIKIPEDIA (THE WORLD'S BILLIONAIRES)"
   ]
  },
  {
   "cell_type": "code",
   "execution_count": 12,
   "id": "61585599",
   "metadata": {
    "id": "61585599"
   },
   "outputs": [],
   "source": [
    "# Installing packages\n",
    "from bs4 import BeautifulSoup\n",
    "import requests"
   ]
  },
  {
   "cell_type": "code",
   "execution_count": null,
   "id": "15bf49f9",
   "metadata": {
    "id": "15bf49f9"
   },
   "outputs": [],
   "source": [
    "url = 'https://en.wikipedia.org/wiki/The_World%27s_Billionaires'\n",
    "\n",
    "page = requests.get(url)\n",
    "\n",
    "soup = BeautifulSoup(page.text, 'html')"
   ]
  },
  {
   "cell_type": "code",
   "execution_count": null,
   "id": "3cb1152f",
   "metadata": {
    "id": "3cb1152f"
   },
   "outputs": [],
   "source": [
    "print(soup)"
   ]
  },
  {
   "cell_type": "code",
   "execution_count": null,
   "id": "8270e947",
   "metadata": {
    "id": "8270e947"
   },
   "outputs": [],
   "source": [
    "soup.find('table')"
   ]
  },
  {
   "cell_type": "code",
   "execution_count": null,
   "id": "4225115f",
   "metadata": {
    "id": "4225115f"
   },
   "outputs": [],
   "source": [
    "soup.find_all('table')[2]"
   ]
  },
  {
   "cell_type": "code",
   "execution_count": null,
   "id": "ffe28021",
   "metadata": {
    "id": "ffe28021"
   },
   "outputs": [],
   "source": [
    "soup.find('table', class_ = 'wikitable sortable')"
   ]
  },
  {
   "cell_type": "code",
   "execution_count": null,
   "id": "4c8c7f43",
   "metadata": {
    "id": "4c8c7f43"
   },
   "outputs": [],
   "source": [
    "table_3rd = soup.find_all('table')[2]"
   ]
  },
  {
   "cell_type": "code",
   "execution_count": null,
   "id": "56638501",
   "metadata": {
    "id": "56638501"
   },
   "outputs": [],
   "source": [
    "print(table_3rd)"
   ]
  },
  {
   "cell_type": "code",
   "execution_count": null,
   "id": "eb98b3ec",
   "metadata": {
    "id": "eb98b3ec"
   },
   "outputs": [],
   "source": [
    "world_billionaires = table_3rd.find_all('th')"
   ]
  },
  {
   "cell_type": "code",
   "execution_count": null,
   "id": "fc390797",
   "metadata": {
    "id": "fc390797"
   },
   "outputs": [],
   "source": [
    "world_billionaires"
   ]
  },
  {
   "cell_type": "code",
   "execution_count": null,
   "id": "0af388e3",
   "metadata": {
    "id": "0af388e3"
   },
   "outputs": [],
   "source": [
    "world_table_billionaires = [title.text.strip() for title in world_billionaires]\n",
    "\n",
    "print(world_table_billionaires)"
   ]
  },
  {
   "cell_type": "code",
   "execution_count": null,
   "id": "aebe0a49",
   "metadata": {
    "id": "aebe0a49"
   },
   "outputs": [],
   "source": [
    "import pandas as pd"
   ]
  },
  {
   "cell_type": "code",
   "execution_count": null,
   "id": "68bbc71b",
   "metadata": {
    "id": "68bbc71b"
   },
   "outputs": [],
   "source": [
    "df = pd.DataFrame(columns = world_table_billionaires)\n",
    "\n",
    "df"
   ]
  },
  {
   "cell_type": "code",
   "execution_count": null,
   "id": "34c8251a",
   "metadata": {
    "id": "34c8251a"
   },
   "outputs": [],
   "source": [
    "column_data = table_3rd.find_all('tr')"
   ]
  },
  {
   "cell_type": "code",
   "execution_count": null,
   "id": "e9443552",
   "metadata": {
    "id": "e9443552"
   },
   "outputs": [],
   "source": [
    "for row in column_data[1:]:\n",
    "    row_data = row.find_all('td')\n",
    "    individual_rows = [data.text.strip() for data in row_data]\n",
    "    print(individual_rows)"
   ]
  },
  {
   "cell_type": "code",
   "execution_count": null,
   "id": "cfc15dfb",
   "metadata": {
    "id": "cfc15dfb"
   },
   "outputs": [],
   "source": [
    "length = len(df)\n",
    "df.loc[length] = individual_rows"
   ]
  },
  {
   "cell_type": "code",
   "execution_count": null,
   "id": "abf4a90a",
   "metadata": {
    "id": "abf4a90a"
   },
   "outputs": [],
   "source": [
    "import csv\n",
    "\n",
    "csv_file_path = r'C:\\Users\\14086\\Downloads\\World_Billionaires.csv'\n",
    "\n",
    "with open(csv_file_path, mode='w', newline='', encoding='utf-8') as file:\n",
    "    writer = csv.writer(file)\n",
    "    writer.writerow(world_table_billionaires)\n",
    "\n",
    "    for row in column_data[1:]:\n",
    "        row_data = row.find_all('td')\n",
    "        individual_rows = [data.text.strip() for data in row_data]\n",
    "        writer.writerow(individual_rows)\n"
   ]
  },
  {
   "cell_type": "markdown",
   "id": "4b2a7854",
   "metadata": {
    "id": "4b2a7854"
   },
   "source": [
    "# AMAZON - WEBSCRAPING + SELENIUM"
   ]
  },
  {
   "cell_type": "code",
   "execution_count": 1,
   "id": "68249af6",
   "metadata": {
    "colab": {
     "base_uri": "https://localhost:8080/",
     "height": 793
    },
    "executionInfo": {
     "elapsed": 7342,
     "status": "error",
     "timestamp": 1711607139995,
     "user": {
      "displayName": "Nikshita Ranganathan",
      "userId": "03597154303677083236"
     },
     "user_tz": 420
    },
    "id": "68249af6",
    "outputId": "81556cbd-9c09-45dd-d65d-5fa0e6b8af06"
   },
   "outputs": [
    {
     "name": "stdout",
     "output_type": "stream",
     "text": [
      "Requirement already satisfied: selenium in /Users/bhagyashrikadam/opt/anaconda3/lib/python3.9/site-packages (4.18.1)\n",
      "Requirement already satisfied: chromedriver-autoinstaller in /Users/bhagyashrikadam/opt/anaconda3/lib/python3.9/site-packages (0.6.4)\n",
      "Requirement already satisfied: pandas in /Users/bhagyashrikadam/opt/anaconda3/lib/python3.9/site-packages (1.4.2)\n",
      "Requirement already satisfied: beautifulsoup4 in /Users/bhagyashrikadam/opt/anaconda3/lib/python3.9/site-packages (4.11.1)\n",
      "Requirement already satisfied: urllib3[socks]<3,>=1.26 in /Users/bhagyashrikadam/opt/anaconda3/lib/python3.9/site-packages (from selenium) (1.26.9)\n",
      "Requirement already satisfied: certifi>=2021.10.8 in /Users/bhagyashrikadam/opt/anaconda3/lib/python3.9/site-packages (from selenium) (2021.10.8)\n",
      "Requirement already satisfied: typing_extensions>=4.9.0 in /Users/bhagyashrikadam/opt/anaconda3/lib/python3.9/site-packages (from selenium) (4.10.0)\n",
      "Requirement already satisfied: trio-websocket~=0.9 in /Users/bhagyashrikadam/opt/anaconda3/lib/python3.9/site-packages (from selenium) (0.11.1)\n",
      "Requirement already satisfied: trio~=0.17 in /Users/bhagyashrikadam/opt/anaconda3/lib/python3.9/site-packages (from selenium) (0.25.0)\n",
      "Requirement already satisfied: packaging>=23.1 in /Users/bhagyashrikadam/opt/anaconda3/lib/python3.9/site-packages (from chromedriver-autoinstaller) (24.0)\n",
      "Requirement already satisfied: python-dateutil>=2.8.1 in /Users/bhagyashrikadam/opt/anaconda3/lib/python3.9/site-packages (from pandas) (2.8.2)\n",
      "Requirement already satisfied: pytz>=2020.1 in /Users/bhagyashrikadam/opt/anaconda3/lib/python3.9/site-packages (from pandas) (2021.3)\n",
      "Requirement already satisfied: numpy>=1.18.5 in /Users/bhagyashrikadam/opt/anaconda3/lib/python3.9/site-packages (from pandas) (1.22.4)\n",
      "Requirement already satisfied: soupsieve>1.2 in /Users/bhagyashrikadam/opt/anaconda3/lib/python3.9/site-packages (from beautifulsoup4) (2.3.1)\n",
      "Requirement already satisfied: six>=1.5 in /Users/bhagyashrikadam/opt/anaconda3/lib/python3.9/site-packages (from python-dateutil>=2.8.1->pandas) (1.16.0)\n",
      "Requirement already satisfied: outcome in /Users/bhagyashrikadam/opt/anaconda3/lib/python3.9/site-packages (from trio~=0.17->selenium) (1.3.0.post0)\n",
      "Requirement already satisfied: sortedcontainers in /Users/bhagyashrikadam/opt/anaconda3/lib/python3.9/site-packages (from trio~=0.17->selenium) (2.4.0)\n",
      "Requirement already satisfied: attrs>=23.2.0 in /Users/bhagyashrikadam/opt/anaconda3/lib/python3.9/site-packages (from trio~=0.17->selenium) (23.2.0)\n",
      "Requirement already satisfied: exceptiongroup in /Users/bhagyashrikadam/opt/anaconda3/lib/python3.9/site-packages (from trio~=0.17->selenium) (1.2.0)\n",
      "Requirement already satisfied: idna in /Users/bhagyashrikadam/opt/anaconda3/lib/python3.9/site-packages (from trio~=0.17->selenium) (3.3)\n",
      "Requirement already satisfied: sniffio>=1.3.0 in /Users/bhagyashrikadam/opt/anaconda3/lib/python3.9/site-packages (from trio~=0.17->selenium) (1.3.1)\n",
      "Requirement already satisfied: wsproto>=0.14 in /Users/bhagyashrikadam/opt/anaconda3/lib/python3.9/site-packages (from trio-websocket~=0.9->selenium) (1.2.0)\n",
      "Requirement already satisfied: PySocks!=1.5.7,<2.0,>=1.5.6 in /Users/bhagyashrikadam/opt/anaconda3/lib/python3.9/site-packages (from urllib3[socks]<3,>=1.26->selenium) (1.7.1)\n",
      "Requirement already satisfied: h11<1,>=0.9.0 in /Users/bhagyashrikadam/opt/anaconda3/lib/python3.9/site-packages (from wsproto>=0.14->trio-websocket~=0.9->selenium) (0.14.0)\n"
     ]
    }
   ],
   "source": [
    "# Installing packages\n",
    "!pip install selenium chromedriver-autoinstaller pandas beautifulsoup4\n",
    "\n",
    "# Importing required libraries\n",
    "import time\n",
    "import pandas as pd\n",
    "from bs4 import BeautifulSoup\n",
    "from selenium import webdriver\n",
    "import chromedriver_autoinstaller\n",
    "from IPython.display import display\n",
    "\n",
    "chromedriver_autoinstaller.install()\n",
    "\n",
    "# Chrome options - Webdriver\n",
    "chrome_options = webdriver.ChromeOptions()\n",
    "chrome_options.add_argument('--headless')\n",
    "chrome_options.add_argument('--no-sandbox')\n",
    "chrome_options.add_argument('--disable-dev-shm-usage')"
   ]
  },
  {
   "cell_type": "code",
   "execution_count": 2,
   "id": "fec35bc4-c7b7-4f27-8888-a088027e9c42",
   "metadata": {
    "executionInfo": {
     "elapsed": 8,
     "status": "aborted",
     "timestamp": 1711606883169,
     "user": {
      "displayName": "Nikshita Ranganathan",
      "userId": "03597154303677083236"
     },
     "user_tz": 420
    },
    "id": "fec35bc4-c7b7-4f27-8888-a088027e9c42"
   },
   "outputs": [],
   "source": [
    "# Function to create a search URL for Amazon\n",
    "def get_url(search_term):\n",
    "    search_term = search_term.replace(' ', '+')\n",
    "    return f\"https://www.amazon.com/s?k={search_term}\""
   ]
  },
  {
   "cell_type": "code",
   "execution_count": 3,
   "id": "62bac28c",
   "metadata": {
    "executionInfo": {
     "elapsed": 8,
     "status": "aborted",
     "timestamp": 1711606883169,
     "user": {
      "displayName": "Nikshita Ranganathan",
      "userId": "03597154303677083236"
     },
     "user_tz": 420
    },
    "id": "62bac28c"
   },
   "outputs": [
    {
     "name": "stdout",
     "output_type": "stream",
     "text": [
      "https://www.amazon.com/s?k=monitor\n"
     ]
    }
   ],
   "source": [
    "search_term = 'monitor'\n",
    "url = get_url(search_term)\n",
    "print(url)"
   ]
  },
  {
   "cell_type": "code",
   "execution_count": 4,
   "id": "6944acec",
   "metadata": {
    "executionInfo": {
     "elapsed": 8,
     "status": "aborted",
     "timestamp": 1711606883170,
     "user": {
      "displayName": "Nikshita Ranganathan",
      "userId": "03597154303677083236"
     },
     "user_tz": 420
    },
    "id": "6944acec"
   },
   "outputs": [
    {
     "name": "stdout",
     "output_type": "stream",
     "text": [
      "22\n"
     ]
    }
   ],
   "source": [
    "# Initialize Selenium WebDriver\n",
    "driver = webdriver.Chrome()\n",
    "driver.get(url)\n",
    "\n",
    "# Reading The HTML website\n",
    "soup = BeautifulSoup(driver.page_source, 'html.parser')\n",
    "results = soup.find_all('div', {'data-component-type': 's-search-result'})\n",
    "\n",
    "# Printing the no. of search results found\n",
    "print(len(results))"
   ]
  },
  {
   "cell_type": "code",
   "execution_count": 5,
   "id": "2e3e6741",
   "metadata": {
    "executionInfo": {
     "elapsed": 8,
     "status": "aborted",
     "timestamp": 1711606883170,
     "user": {
      "displayName": "Nikshita Ranganathan",
      "userId": "03597154303677083236"
     },
     "user_tz": 420
    },
    "id": "2e3e6741"
   },
   "outputs": [],
   "source": [
    "import re\n",
    "\n",
    "from bs4 import BeautifulSoup\n",
    " \n",
    "def extract_record(item):\n",
    "\n",
    "    # Extracting Description\n",
    "\n",
    "    description = item.h2.a.text.strip()\n",
    " \n",
    "    # Extracting URL\n",
    "\n",
    "    url = \"https://www.amazon.com\" + item.h2.a.get('href')\n",
    " \n",
    "    # Extracting Price\n",
    "\n",
    "    price = item.find('span', 'a-price-whole')\n",
    "\n",
    "    price_fraction = item.find('span', 'a-price-fraction')\n",
    "\n",
    "    if price and price_fraction:\n",
    "\n",
    "        price_whole = price.text.strip().replace(',', '')\n",
    "\n",
    "        # Check if price whole already contains a decimal\n",
    "\n",
    "        if '.' in price_whole:\n",
    "\n",
    "            price = price_whole + price_fraction.text.strip()\n",
    "\n",
    "        else:\n",
    "\n",
    "            price = price_whole + '.' + price_fraction.text.strip()\n",
    "\n",
    "    else:\n",
    "\n",
    "        price = ''\n",
    " \n",
    "    # Extracting Ratings\n",
    "\n",
    "    rating = item.find('i', {'class': 'a-icon-star-small'}) or ''\n",
    "    if rating:\n",
    "        rating = rating.text.strip()\n",
    " \n",
    "    # Extracting Review Counts\n",
    "\n",
    "    review_count = item.find('span', {'class': 'a-size-base'}) or ''\n",
    "    if review_count:\n",
    "        review_count = review_count.text.strip()\n",
    " \n",
    "    # Extracting Display Size\n",
    "\n",
    "    display_size = ''\n",
    "\n",
    "    features = item.find_all('span', {'class': 'a-text-bold'})\n",
    "\n",
    "    for feature in features:\n",
    "\n",
    "        if 'inches' in feature.text:\n",
    "\n",
    "            display_size = feature.text.strip()\n",
    "\n",
    "            break\n",
    " \n",
    "    # Extract Resolution\n",
    "\n",
    "    resolution = ''\n",
    "\n",
    "    features = item.find_all('span', {'class': 'a-text-bold'})\n",
    "\n",
    "    for feature in features:\n",
    "\n",
    "        # Look for a pattern that signifies resolution (numbers followed by 'p')\n",
    "\n",
    "        if re.search(r'\\d+p', feature.text):\n",
    "\n",
    "            resolution = feature.text.strip()\n",
    "\n",
    "            break\n",
    " \n",
    "    # Return extracted details as a dictionary\n",
    "\n",
    "    return {\n",
    "\n",
    "        'Description': description,\n",
    "\n",
    "        'Price(USD)': price,\n",
    "\n",
    "        'Rating': rating,\n",
    "\n",
    "        'Review Count': review_count,\n",
    "\n",
    "        'Display Size': display_size,\n",
    "\n",
    "        'Resolution': resolution,\n",
    "\n",
    "        'Url of the Product': url\n",
    "\n",
    "    }\n"
   ]
  },
  {
   "cell_type": "code",
   "execution_count": 6,
   "id": "b4d4842c-f1d9-4d1d-92a7-5b2fbb7d78e8",
   "metadata": {
    "id": "b4d4842c-f1d9-4d1d-92a7-5b2fbb7d78e8"
   },
   "outputs": [],
   "source": [
    "# Main function to search a query and save results to CSV\n",
    "def search_query(search_term):\n",
    "    driver = webdriver.Chrome(options=chrome_options)\n",
    "    records = []\n",
    "    url = get_url(search_term)\n",
    "\n",
    "    driver.get(url)\n",
    "    soup = BeautifulSoup(driver.page_source, 'html.parser')\n",
    "    results = soup.find_all('div', {'data-component-type': 's-search-result'})\n",
    "\n",
    "    for item in results:\n",
    "        record = extract_record()\n",
    "        if record:\n",
    "            records.append(record)\n",
    "\n",
    "    driver.close()\n",
    "\n",
    "    # Save data to DataFrame and CSV\n",
    "    if records:\n",
    "        df = pd.DataFrame(records)\n",
    "        filename = f\"{search_term.replace(' ', '_')}.csv\"\n",
    "        df.to_csv(filename, index=False)\n",
    "        print(f\"Data saved to {filename}\")\n",
    "        display(df)\n",
    "    else:\n",
    "        print(\"No records found.\")\n"
   ]
  },
  {
   "cell_type": "code",
   "execution_count": 8,
   "id": "7e3434ad-5fba-4d0d-bba5-45f11aee39f7",
   "metadata": {
    "id": "7e3434ad-5fba-4d0d-bba5-45f11aee39f7"
   },
   "outputs": [
    {
     "name": "stdout",
     "output_type": "stream",
     "text": [
      "No records found.\n"
     ]
    }
   ],
   "source": [
    "search_query('Monitor')"
   ]
  },
  {
   "cell_type": "code",
   "execution_count": null,
   "id": "56eb8cda-8417-472d-91cb-9483c6bda5cd",
   "metadata": {
    "id": "56eb8cda-8417-472d-91cb-9483c6bda5cd"
   },
   "outputs": [],
   "source": []
  }
 ],
 "metadata": {
  "colab": {
   "provenance": []
  },
  "kernelspec": {
   "display_name": "Python 3 (ipykernel)",
   "language": "python",
   "name": "python3"
  },
  "language_info": {
   "codemirror_mode": {
    "name": "ipython",
    "version": 3
   },
   "file_extension": ".py",
   "mimetype": "text/x-python",
   "name": "python",
   "nbconvert_exporter": "python",
   "pygments_lexer": "ipython3",
   "version": "3.9.12"
  }
 },
 "nbformat": 4,
 "nbformat_minor": 5
}
